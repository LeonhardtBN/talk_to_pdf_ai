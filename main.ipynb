{
 "cells": [
  {
   "cell_type": "code",
   "execution_count": 14,
   "metadata": {},
   "outputs": [],
   "source": [
    "from langchain.document_loaders import PyPDFLoader\n",
    "from langchain.embeddings import OpenAIEmbeddings \n",
    "from langchain.vectorstores import Chroma \n",
    "from langchain.chains import ConversationalRetrievalChain\n",
    "from langchain.llms import OpenAI\n",
    "from dotenv import load_dotenv\n",
    "from langchain.vectorstores import FAISS\n",
    "from langchain.chat_models import ChatOpenAI\n",
    "\n",
    "\n"
   ]
  },
  {
   "cell_type": "code",
   "execution_count": 15,
   "metadata": {},
   "outputs": [
    {
     "name": "stderr",
     "output_type": "stream",
     "text": [
      "WARNING: requirements.txt already exists, use --force to overwrite it\n"
     ]
    }
   ],
   "source": [
    "!pipreqs C:\\Users\\Leonhardt\\talk_to_pdf_ai"
   ]
  },
  {
   "cell_type": "code",
   "execution_count": 16,
   "metadata": {},
   "outputs": [
    {
     "name": "stdout",
     "output_type": "stream",
     "text": [
      "UniversidadeFederalRuraldePernambuco.\n",
      "LeonardoBarbosaNunesdeSiqueira\n",
      "Aimportânciadausabilidadenaexperiênciadousuário.\n",
      "Recife2023\n"
     ]
    }
   ],
   "source": [
    "pdf_path = \"./Prática de Ensino de Computação II -  A importância da usabilidade na experiência do usuário.pdf\"\n",
    "loader = PyPDFLoader(pdf_path)\n",
    "pages = loader.load_and_split()\n",
    "print(pages[0].page_content)"
   ]
  },
  {
   "cell_type": "code",
   "execution_count": 17,
   "metadata": {},
   "outputs": [],
   "source": [
    "load_dotenv()\n",
    "embeddings = OpenAIEmbeddings()\n",
    "vectordb = Chroma.from_documents(pages, embedding=embeddings, persist_directory=\".\")\n",
    "vectordb.persist()"
   ]
  },
  {
   "cell_type": "code",
   "execution_count": 18,
   "metadata": {},
   "outputs": [
    {
     "name": "stdout",
     "output_type": "stream",
     "text": [
      "Answer:\n",
      "Os jogos que estão sendo analisados são Assassin’s Creed, Planet Zoo e Minecraft.\n",
      "\n",
      "1. **Assassin’s Creed**:  Um jogo de ação e aventura que se passa em diferentes períodos históricos, como o Renascimento Italiano e a Era dos Piratas, permitindo aos jogadores explorar, interagir e vivenciar eventos marcantes da história.\n",
      "\n",
      "2. **Planet Zoo**: Um jogo de simulação de gerenciamento de zoológicos, onde os jogadores constroem e administram um parque animal, cuidando do bem-estar dos animais, das instalações e do ambiente, incentivando o planejamento e a ecologia.\n",
      "\n",
      "3. **Minecraft**: Um jogo de construção e exploração em um mundo aberto, onde os jogadores podem construir estruturas, explorar terras desconhecidas, sobreviver a monstros e coletar recursos, promovendo o desenvolvimento da lógica, criatividade e planejamento.\n"
     ]
    }
   ],
   "source": [
    "# Initialize the LLM\n",
    "llm = ChatOpenAI(temperature=0.9, model_name=\"gpt-3.5-turbo\")\n",
    "\n",
    "# Create a conversational retrieval chain\n",
    "pdf_qa = ConversationalRetrievalChain.from_llm(\n",
    "    llm=llm,\n",
    "    retriever=vectordb.as_retriever(),\n",
    "    return_source_documents=True\n",
    ") \n",
    "query= 'Fale sobre quais jogos estão sendo trabalhados e diga a descrição de cada'\n",
    "result = pdf_qa({\"question\": query, \"chat_history\": \"\"})\n",
    "print(\"Answer:\")\n",
    "print(result[\"answer\"])"
   ]
  }
 ],
 "metadata": {
  "kernelspec": {
   "display_name": "Python 3",
   "language": "python",
   "name": "python3"
  },
  "language_info": {
   "codemirror_mode": {
    "name": "ipython",
    "version": 3
   },
   "file_extension": ".py",
   "mimetype": "text/x-python",
   "name": "python",
   "nbconvert_exporter": "python",
   "pygments_lexer": "ipython3",
   "version": "3.13.0"
  }
 },
 "nbformat": 4,
 "nbformat_minor": 2
}
